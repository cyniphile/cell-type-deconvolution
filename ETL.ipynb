{
 "cells": [
  {
   "cell_type": "code",
   "execution_count": 1,
   "metadata": {},
   "outputs": [],
   "source": [
    "import pandas as pd\n",
    "import requests\n",
    "import re\n",
    "from io import StringIO"
   ]
  },
  {
   "cell_type": "code",
   "execution_count": 146,
   "metadata": {},
   "outputs": [
    {
     "name": "stderr",
     "output_type": "stream",
     "text": [
      "/Users/luke/projects/cell-type-deconvolution/.venv/lib/python3.11/site-packages/openpyxl/worksheet/_reader.py:329: UserWarning: Unknown extension is not supported and will be removed\n",
      "  warn(msg)\n"
     ]
    }
   ],
   "source": [
    "signature_matrix_url = 'https://www.ncbi.nlm.nih.gov/pmc/articles/PMC4739640/bin/NIHMS670442-supplement-2.xlsx'\n",
    "filename = 'signature_matrix'\n",
    "try:\n",
    "    open(f'./data/raw/{filename}.xlsx', 'r')\n",
    "except FileNotFoundError:\n",
    "    r = requests.get(signature_matrix_url)\n",
    "    open(f'./data/raw/{filename}.xlsx', 'wb').write(r.content)\n",
    "df = pd.read_excel(f'./data/raw/{filename}.xlsx', sheet_name='SuppTable1_GEP_Matrix', header=13, index_col='Gene symbol')\n",
    "df.drop(['Entrez ID', 'Max probeseta'], axis=1).to_csv(f'./data/{filename}.csv')"
   ]
  },
  {
   "cell_type": "code",
   "execution_count": 144,
   "metadata": {},
   "outputs": [
    {
     "name": "stderr",
     "output_type": "stream",
     "text": [
      "/Users/luke/projects/cell-type-deconvolution/.venv/lib/python3.11/site-packages/openpyxl/worksheet/_reader.py:329: UserWarning: Unknown extension is not supported and will be removed\n",
      "  warn(msg)\n"
     ]
    }
   ],
   "source": [
    "FILENAME = 'ground_truth_proportions' \n",
    "try:\n",
    "    open(f'./data/raw/{FILENAME}.xlsx', 'r')\n",
    "except FileNotFoundError:\n",
    "    r = requests.get('https://static-content.springer.com/esm/art%3A10.1038%2Fnmeth.3337/MediaObjects/41592_2015_BFnmeth3337_MOESM205_ESM.xlsx')\n",
    "    open(f'./data/raw/{FILENAME}.xlsx', 'wb').write(r.content)\n",
    "pd.read_excel(f'./data/raw/{FILENAME}.xlsx').to_csv(f'./data/{FILENAME}.csv', index=False)\n",
    "\n",
    "signature_matrix = pd.read_csv(f\"./data/signature_matrix.csv\", index_col=0)\n",
    "ground_truth = pd.read_csv('./data/ground_truth_proportions.csv').pivot(index='Sample ID', columns='Cell type', values='Flow (%)')\n",
    "signature_matrix.columns\n",
    "COL_MAPPING_GT_TO_SIG = {\n",
    "    'Activated memory CD4 T cells': 'T cells CD4 memory activated', \n",
    "    'CD8 T cells': 'T cells CD8',\n",
    "    'Memory B cells': 'B cells memory',\n",
    "    'Monocytes': 'Monocytes',\n",
    "    # TODO: which nk cells? 'NK cells activated', or 'NK cells resting'?\n",
    "    'NK cells':'NK cells resting', \n",
    "    'Naïve B cells': 'B cells naive', \n",
    "    'Naïve CD4 T cells':  'T cells CD4 naive',\n",
    "    'Resting memory CD4 T cells': 'T cells CD4 memory resting',\n",
    "\n",
    "}\n",
    "new_ground_truth_cols = [COL_MAPPING_GT_TO_SIG[c] for c in ground_truth.columns]\n",
    "ground_truth.columns = new_ground_truth_cols\n",
    "assert sum(ground_truth.columns.isin(signature_matrix.columns) == False ) == 0\n",
    "ground_truth.to_csv('./data/ground_truth_proportions.csv')"
   ]
  },
  {
   "cell_type": "code",
   "execution_count": 22,
   "metadata": {},
   "outputs": [],
   "source": [
    "try:\n",
    "    file = open('./data/raw/HumanHT-12 V4.0 expression beadchip.txt', 'r').read()\n",
    "except FileNotFoundError:\n",
    "    r = requests.get('https://www.ncbi.nlm.nih.gov/geo/query/acc.cgi?mode=raw&is_datatable=true&acc=GPL10558&id=50081&db=GeoDb_blob135')\n",
    "    open('./data/raw/HumanHT-12 V4.0 expression beadchip.txt', 'wb').write(r.content)\n",
    "    file = r.text\n",
    "raw_data = file.split(\"#GB_ACC = \\n\")[1]\n",
    "beadchip_probe_definitions = pd.read_csv(StringIO(raw_data), sep='\\t', index_col=0)0"
   ]
  },
  {
   "cell_type": "code",
   "execution_count": 120,
   "metadata": {},
   "outputs": [],
   "source": [
    "cell_mix_ids = {\n",
    "    \"GSM1587800\": \"17-002\",\n",
    "    \"GSM1587801\": \"17-006\",\n",
    "    \"GSM1587802\": \"17-019\",\n",
    "    \"GSM1587803\": \"17-023\",\n",
    "    \"GSM1587804\": \"17-026\",\n",
    "    \"GSM1587805\": \"17-027\",\n",
    "    \"GSM1587806\": \"17-030\",\n",
    "    \"GSM1587807\": \"17-034\",\n",
    "    \"GSM1587808\": \"17-040\",\n",
    "    \"GSM1587809\": \"17-041\",\n",
    "    \"GSM1587810\": \"17-042\",\n",
    "    \"GSM1587811\": \"17-043\",\n",
    "    \"GSM1587812\": \"17-045\",\n",
    "    \"GSM1587813\": \"17-047\",\n",
    "    \"GSM1587814\": \"17-054\",\n",
    "    \"GSM1587815\": \"17-055\",\n",
    "    \"GSM1587816\": \"17-057\",\n",
    "    \"GSM1587817\": \"17-058\",\n",
    "    \"GSM1587818\": \"17-060\",\n",
    "    \"GSM1587819\": \"17-061\",\n",
    "}\n",
    "\n",
    "dfs = []\n",
    "for mix_id in cell_mix_ids.keys():\n",
    "    try:\n",
    "        html = open(f'./data/raw/cell_mixes/{mix_id}.html', 'r').read()\n",
    "    except FileNotFoundError:\n",
    "        html = requests.get(f'https://www.ncbi.nlm.nih.gov/geo/query/acc.cgi?view=data&acc={mix_id}').text\n",
    "        open(f'./data/raw/cell_mixes/{mix_id}.html', 'w').write(html)\n",
    "    split = html.split('#Detection Pval = \\n')[1].split('\\n')\n",
    "    assert len(split) == 47_336\n",
    "    raw_cols = split[0].split('</strong><strong>\\t')\n",
    "    clean = re.compile('<.*?>')\n",
    "    cols = '\\t'.join([re.sub(clean, '', string) for string in raw_cols])\n",
    "    df = pd.read_csv(StringIO('\\n'.join([cols] + split[2:47_326])), sep='\\t', dtype=str, index_col=0)\n",
    "    mix_name = cell_mix_ids[mix_id]\n",
    "    df = df.rename(columns={'VALUE': mix_name})\n",
    "    dfs.append(df[mix_name])\n",
    "all_mixes = pd.concat(dfs, axis=1)\n",
    "\n",
    "# Map to gene names from probe names using beadchip probe definitions\n",
    "all_mixes = all_mixes.astype(float)\n",
    "all_mixes['Gene symbol'] = all_mixes.index.map(lambda i: beadchip_probe_definitions.loc[i]['Symbol'])\n",
    "all_mixes.dropna(inplace=True, subset='Gene symbol')"
   ]
  },
  {
   "cell_type": "code",
   "execution_count": 121,
   "metadata": {},
   "outputs": [],
   "source": [
    "# Remove duplicate rows with duplicate Gene symbols, keeping the row with the highest average expression\n",
    "# From https://www.ncbi.nlm.nih.gov/pmc/articles/PMC4739640:\n",
    "# \"For non-Affymetrix platforms [this one is Illumina], genes mapping to >1 \n",
    "# probe were collapsed at the gene-level according to the probe with highest \n",
    "# mean expression across all samples.\"\n",
    "\n",
    "mean_expression_per_probe = all_mixes.drop('Gene symbol', axis=1, inplace=False).T.mean()\n",
    "best_duplicate_probe_index = pd.concat([mean_expression_per_probe, all_mixes['Gene symbol']], axis=1).sort_values(0).drop_duplicates(subset='Gene symbol', keep='last')\n",
    "deduped_mixes = all_mixes.loc[best_duplicate_probe_index.index].set_index('Gene symbol').sort_index()"
   ]
  },
  {
   "cell_type": "code",
   "execution_count": 135,
   "metadata": {},
   "outputs": [],
   "source": [
    "deduped_mixes.to_csv('./data/cell_mixes.csv')"
   ]
  },
  {
   "cell_type": "code",
   "execution_count": null,
   "metadata": {},
   "outputs": [],
   "source": []
  }
 ],
 "metadata": {
  "kernelspec": {
   "display_name": ".venv",
   "language": "python",
   "name": "python3"
  },
  "language_info": {
   "codemirror_mode": {
    "name": "ipython",
    "version": 3
   },
   "file_extension": ".py",
   "mimetype": "text/x-python",
   "name": "python",
   "nbconvert_exporter": "python",
   "pygments_lexer": "ipython3",
   "version": "3.11.2"
  },
  "orig_nbformat": 4
 },
 "nbformat": 4,
 "nbformat_minor": 2
}
